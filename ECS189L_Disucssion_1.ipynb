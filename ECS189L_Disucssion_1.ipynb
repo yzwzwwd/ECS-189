{
  "nbformat": 4,
  "nbformat_minor": 0,
  "metadata": {
    "colab": {
      "name": "ECS189L_Disucssion_1.ipynb",
      "provenance": [],
      "collapsed_sections": []
    },
    "kernelspec": {
      "name": "python3",
      "display_name": "Python 3"
    }
  },
  "cells": [
    {
      "cell_type": "markdown",
      "metadata": {
        "id": "Px34f9Z0f0rD"
      },
      "source": [
        "# ECS Disucssion 1\n",
        "\n",
        "## Buttons (insert code, text, upload files, share it with others)\n",
        "\n",
        "## The .ipynb file is basically a .json file, where each key defines each cell."
      ]
    },
    {
      "cell_type": "markdown",
      "metadata": {
        "id": "fyIlS_PvhXSo"
      },
      "source": [
        "### Results will be displayed right below the code cell"
      ]
    },
    {
      "cell_type": "code",
      "metadata": {
        "id": "3FZcVdThfyRo",
        "outputId": "0031b415-b9f5-4d23-a828-9af2e6880b53",
        "colab": {
          "base_uri": "https://localhost:8080/",
          "height": 34
        }
      },
      "source": [
        "print('Hi there!')"
      ],
      "execution_count": 67,
      "outputs": [
        {
          "output_type": "stream",
          "text": [
            "Hi there!\n"
          ],
          "name": "stdout"
        }
      ]
    },
    {
      "cell_type": "markdown",
      "metadata": {
        "id": "dqn3aXt8-aEC"
      },
      "source": [
        "### The next piece of code is to sleep five seconds."
      ]
    },
    {
      "cell_type": "code",
      "metadata": {
        "id": "IB4W9tqSfYcC",
        "outputId": "5c28c455-01e4-419f-acf1-e26ffaf690eb",
        "colab": {
          "base_uri": "https://localhost:8080/",
          "height": 34
        }
      },
      "source": [
        "import time\n",
        "time.sleep(5)\n",
        "print('Sleep for five seconds.')"
      ],
      "execution_count": 68,
      "outputs": [
        {
          "output_type": "stream",
          "text": [
            "Sleep for five seconds.\n"
          ],
          "name": "stdout"
        }
      ]
    },
    {
      "cell_type": "code",
      "metadata": {
        "id": "ln3EQFiainUx"
      },
      "source": [
        "def say_hello(recipient):\n",
        "    return 'Hello, {}!'.format(recipient)\n",
        "words = say_hello('Tim')"
      ],
      "execution_count": 69,
      "outputs": []
    },
    {
      "cell_type": "markdown",
      "metadata": {
        "id": "Ls_WiGCbD2oU"
      },
      "source": [
        "### Variables already exist in the environment, so we can just reuse them."
      ]
    },
    {
      "cell_type": "code",
      "metadata": {
        "id": "w_34poK4KVyv",
        "outputId": "b6ed9b9a-42bf-4964-ed4c-a7b4d7ef471f",
        "colab": {
          "base_uri": "https://localhost:8080/",
          "height": 35
        }
      },
      "source": [
        "words"
      ],
      "execution_count": 70,
      "outputs": [
        {
          "output_type": "execute_result",
          "data": {
            "application/vnd.google.colaboratory.intrinsic+json": {
              "type": "string"
            },
            "text/plain": [
              "'Hello, Tim!'"
            ]
          },
          "metadata": {
            "tags": []
          },
          "execution_count": 70
        }
      ]
    },
    {
      "cell_type": "code",
      "metadata": {
        "id": "JeHvMXeVkuaV",
        "outputId": "1cc3b95d-b480-4057-a036-fd294a81cf27",
        "colab": {
          "base_uri": "https://localhost:8080/",
          "height": 34
        }
      },
      "source": [
        "print(words)"
      ],
      "execution_count": 71,
      "outputs": [
        {
          "output_type": "stream",
          "text": [
            "Hello, Tim!\n"
          ],
          "name": "stdout"
        }
      ]
    },
    {
      "cell_type": "markdown",
      "metadata": {
        "id": "_nP_DH_8D-i3"
      },
      "source": [
        "# ***Markdown Grammar***\n",
        "\n"
      ]
    },
    {
      "cell_type": "markdown",
      "metadata": {
        "id": "lVjabkRhKxjL"
      },
      "source": [
        "### Control Font Size"
      ]
    },
    {
      "cell_type": "markdown",
      "metadata": {
        "id": "Ar4WD9GZlPjN"
      },
      "source": [
        "# 1st Title\n",
        "## 2nd Title\n",
        "### 3rd Title\n",
        "#### 4th Title\n",
        "##### 5th Title\n",
        "###### 6th title"
      ]
    },
    {
      "cell_type": "markdown",
      "metadata": {
        "id": "1HjnQIP2lrGE"
      },
      "source": [
        "## The use of stars\n",
        "\n",
        "# **Foo** is bold\n",
        "# *bar* is emphasized\n",
        "\n",
        "# ***Three Stars***"
      ]
    },
    {
      "cell_type": "markdown",
      "metadata": {
        "id": "Xd_fmzU4pRJT"
      },
      "source": [
        "\n",
        "### Lists with levels\n",
        "\n",
        "- 1st level\n",
        " - 2nd level\n",
        "   - 3rd level\n",
        "     - 4th level\n"
      ]
    },
    {
      "cell_type": "markdown",
      "metadata": {
        "id": "wYCTiyRkqOsb"
      },
      "source": [
        "Ordered lists\n",
        "\n",
        "1. \n",
        "2. \n",
        "3. \n",
        "4. \n",
        "5. "
      ]
    },
    {
      "cell_type": "markdown",
      "metadata": {
        "id": "q1pQ4Azfq2xL"
      },
      "source": [
        "Inline code：`pip install jupyter`\n",
        "\n",
        "Code block with three apostrophes:\n",
        "\n",
        "```\n",
        "pip install jupyter\n",
        "jupyter notebook\n",
        "```\n",
        "\n",
        "Or you can use 4 blanks:\n",
        "\n",
        "    foo()\n",
        "    bar()\n",
        "\n"
      ]
    },
    {
      "cell_type": "markdown",
      "metadata": {
        "id": "ta7zgAxBr67d"
      },
      "source": [
        "### You can also use it to include latex formula \n",
        "\n",
        "$$F_{G} = G\\frac{M}{r^{2}}$$"
      ]
    },
    {
      "cell_type": "markdown",
      "metadata": {
        "id": "--FuSSfOrs80"
      },
      "source": [
        "### Include a picture URL:\n",
        "[Figure URL](http://www.uctv.tv/images/series/widescreen/579.jpg)\n",
        "\n",
        "### Add the figure into the notebook：\n",
        "![Alt](http://www.uctv.tv/images/series/widescreen/579.jpg)"
      ]
    },
    {
      "cell_type": "markdown",
      "metadata": {
        "id": "TvHL07KeIfmN"
      },
      "source": [
        "## ***Install and Load libraries using Exclamation Mark***"
      ]
    },
    {
      "cell_type": "code",
      "metadata": {
        "id": "Y1PbFZLKIGCT",
        "outputId": "36ac68d1-5186-47f5-eb94-3f7d72cfe147",
        "colab": {
          "base_uri": "https://localhost:8080/",
          "height": 247
        }
      },
      "source": [
        "!pip install seaborn\n",
        "import seaborn as sns\n",
        "print('Imported.')"
      ],
      "execution_count": 72,
      "outputs": [
        {
          "output_type": "stream",
          "text": [
            "Requirement already satisfied: seaborn in /usr/local/lib/python3.6/dist-packages (0.11.0)\n",
            "Requirement already satisfied: scipy>=1.0 in /usr/local/lib/python3.6/dist-packages (from seaborn) (1.4.1)\n",
            "Requirement already satisfied: matplotlib>=2.2 in /usr/local/lib/python3.6/dist-packages (from seaborn) (3.2.2)\n",
            "Requirement already satisfied: pandas>=0.23 in /usr/local/lib/python3.6/dist-packages (from seaborn) (1.1.2)\n",
            "Requirement already satisfied: numpy>=1.15 in /usr/local/lib/python3.6/dist-packages (from seaborn) (1.18.5)\n",
            "Requirement already satisfied: kiwisolver>=1.0.1 in /usr/local/lib/python3.6/dist-packages (from matplotlib>=2.2->seaborn) (1.2.0)\n",
            "Requirement already satisfied: pyparsing!=2.0.4,!=2.1.2,!=2.1.6,>=2.0.1 in /usr/local/lib/python3.6/dist-packages (from matplotlib>=2.2->seaborn) (2.4.7)\n",
            "Requirement already satisfied: python-dateutil>=2.1 in /usr/local/lib/python3.6/dist-packages (from matplotlib>=2.2->seaborn) (2.8.1)\n",
            "Requirement already satisfied: cycler>=0.10 in /usr/local/lib/python3.6/dist-packages (from matplotlib>=2.2->seaborn) (0.10.0)\n",
            "Requirement already satisfied: pytz>=2017.2 in /usr/local/lib/python3.6/dist-packages (from pandas>=0.23->seaborn) (2018.9)\n",
            "Requirement already satisfied: six>=1.5 in /usr/local/lib/python3.6/dist-packages (from python-dateutil>=2.1->matplotlib>=2.2->seaborn) (1.15.0)\n",
            "Imported.\n"
          ],
          "name": "stdout"
        }
      ]
    },
    {
      "cell_type": "markdown",
      "metadata": {
        "id": "6mbD0rW1IoHV"
      },
      "source": [
        "# ***Load data from your google drive***"
      ]
    },
    {
      "cell_type": "code",
      "metadata": {
        "id": "6GBXREd6B7vu",
        "outputId": "95fc7093-2702-45e8-9758-094524d03841",
        "colab": {
          "base_uri": "https://localhost:8080/",
          "height": 34
        }
      },
      "source": [
        "from google.colab import drive\n",
        "drive.mount('/content/drive')"
      ],
      "execution_count": 77,
      "outputs": [
        {
          "output_type": "stream",
          "text": [
            "Drive already mounted at /content/drive; to attempt to forcibly remount, call drive.mount(\"/content/drive\", force_remount=True).\n"
          ],
          "name": "stdout"
        }
      ]
    },
    {
      "cell_type": "code",
      "metadata": {
        "id": "gyoURohLDBox"
      },
      "source": [
        "import pandas as pd\n",
        "df = pd.read_csv('/content/drive/My Drive/ECS189L/airlines.csv')"
      ],
      "execution_count": 78,
      "outputs": []
    },
    {
      "cell_type": "markdown",
      "metadata": {
        "id": "GehIuNCqGMQT"
      },
      "source": [
        "## Examine the dataset"
      ]
    },
    {
      "cell_type": "code",
      "metadata": {
        "id": "cJDwfIkgIxj8",
        "outputId": "6d3003a8-6d1a-4f0b-d0c9-adc3acb5f2db",
        "colab": {
          "base_uri": "https://localhost:8080/",
          "height": 157
        }
      },
      "source": [
        "# print it out\n",
        "print(df.head())"
      ],
      "execution_count": 73,
      "outputs": [
        {
          "output_type": "stream",
          "text": [
            "  Airport.Code  ... Statistics.Minutes Delayed.Weather\n",
            "0          ATL  ...                              19474\n",
            "1          BOS  ...                               4160\n",
            "2          BWI  ...                               6201\n",
            "3          CLT  ...                               3792\n",
            "4          DCA  ...                               4141\n",
            "\n",
            "[5 rows x 24 columns]\n"
          ],
          "name": "stdout"
        }
      ]
    },
    {
      "cell_type": "code",
      "metadata": {
        "id": "SLV8869-Dc7r",
        "outputId": "629216c3-ef36-42b7-d383-b9cd7ff484e0",
        "colab": {
          "base_uri": "https://localhost:8080/",
          "height": 420
        }
      },
      "source": [
        "# A better way of displaying tables\n",
        "df.head()"
      ],
      "execution_count": null,
      "outputs": [
        {
          "output_type": "execute_result",
          "data": {
            "text/html": [
              "<div>\n",
              "<style scoped>\n",
              "    .dataframe tbody tr th:only-of-type {\n",
              "        vertical-align: middle;\n",
              "    }\n",
              "\n",
              "    .dataframe tbody tr th {\n",
              "        vertical-align: top;\n",
              "    }\n",
              "\n",
              "    .dataframe thead th {\n",
              "        text-align: right;\n",
              "    }\n",
              "</style>\n",
              "<table border=\"1\" class=\"dataframe\">\n",
              "  <thead>\n",
              "    <tr style=\"text-align: right;\">\n",
              "      <th></th>\n",
              "      <th>Airport.Code</th>\n",
              "      <th>Airport.Name</th>\n",
              "      <th>Time.Label</th>\n",
              "      <th>Time.Month</th>\n",
              "      <th>Time.Month Name</th>\n",
              "      <th>Time.Year</th>\n",
              "      <th>Statistics.# of Delays.Carrier</th>\n",
              "      <th>Statistics.# of Delays.Late Aircraft</th>\n",
              "      <th>Statistics.# of Delays.National Aviation System</th>\n",
              "      <th>Statistics.# of Delays.Security</th>\n",
              "      <th>Statistics.# of Delays.Weather</th>\n",
              "      <th>Statistics.Carriers.Names</th>\n",
              "      <th>Statistics.Carriers.Total</th>\n",
              "      <th>Statistics.Flights.Cancelled</th>\n",
              "      <th>Statistics.Flights.Delayed</th>\n",
              "      <th>Statistics.Flights.Diverted</th>\n",
              "      <th>Statistics.Flights.On Time</th>\n",
              "      <th>Statistics.Flights.Total</th>\n",
              "      <th>Statistics.Minutes Delayed.Carrier</th>\n",
              "      <th>Statistics.Minutes Delayed.Late Aircraft</th>\n",
              "      <th>Statistics.Minutes Delayed.National Aviation System</th>\n",
              "      <th>Statistics.Minutes Delayed.Security</th>\n",
              "      <th>Statistics.Minutes Delayed.Total</th>\n",
              "      <th>Statistics.Minutes Delayed.Weather</th>\n",
              "    </tr>\n",
              "  </thead>\n",
              "  <tbody>\n",
              "    <tr>\n",
              "      <th>0</th>\n",
              "      <td>ATL</td>\n",
              "      <td>Atlanta, GA: Hartsfield-Jackson Atlanta Intern...</td>\n",
              "      <td>2003/06</td>\n",
              "      <td>6</td>\n",
              "      <td>June</td>\n",
              "      <td>2003</td>\n",
              "      <td>1009</td>\n",
              "      <td>1275</td>\n",
              "      <td>3217</td>\n",
              "      <td>17</td>\n",
              "      <td>328</td>\n",
              "      <td>American Airlines Inc.,JetBlue Airways,Contine...</td>\n",
              "      <td>11</td>\n",
              "      <td>216</td>\n",
              "      <td>5843</td>\n",
              "      <td>27</td>\n",
              "      <td>23974</td>\n",
              "      <td>30060</td>\n",
              "      <td>61606</td>\n",
              "      <td>68335</td>\n",
              "      <td>118831</td>\n",
              "      <td>518</td>\n",
              "      <td>268764</td>\n",
              "      <td>19474</td>\n",
              "    </tr>\n",
              "    <tr>\n",
              "      <th>1</th>\n",
              "      <td>BOS</td>\n",
              "      <td>Boston, MA: Logan International</td>\n",
              "      <td>2003/06</td>\n",
              "      <td>6</td>\n",
              "      <td>June</td>\n",
              "      <td>2003</td>\n",
              "      <td>374</td>\n",
              "      <td>495</td>\n",
              "      <td>685</td>\n",
              "      <td>3</td>\n",
              "      <td>66</td>\n",
              "      <td>American Airlines Inc.,Alaska Airlines Inc.,Co...</td>\n",
              "      <td>14</td>\n",
              "      <td>138</td>\n",
              "      <td>1623</td>\n",
              "      <td>3</td>\n",
              "      <td>7875</td>\n",
              "      <td>9639</td>\n",
              "      <td>20319</td>\n",
              "      <td>28189</td>\n",
              "      <td>24400</td>\n",
              "      <td>99</td>\n",
              "      <td>77167</td>\n",
              "      <td>4160</td>\n",
              "    </tr>\n",
              "    <tr>\n",
              "      <th>2</th>\n",
              "      <td>BWI</td>\n",
              "      <td>Baltimore, MD: Baltimore/Washington Internatio...</td>\n",
              "      <td>2003/06</td>\n",
              "      <td>6</td>\n",
              "      <td>June</td>\n",
              "      <td>2003</td>\n",
              "      <td>296</td>\n",
              "      <td>477</td>\n",
              "      <td>389</td>\n",
              "      <td>8</td>\n",
              "      <td>78</td>\n",
              "      <td>American Airlines Inc.,Continental Air Lines I...</td>\n",
              "      <td>11</td>\n",
              "      <td>29</td>\n",
              "      <td>1245</td>\n",
              "      <td>15</td>\n",
              "      <td>6998</td>\n",
              "      <td>8287</td>\n",
              "      <td>13635</td>\n",
              "      <td>26810</td>\n",
              "      <td>17556</td>\n",
              "      <td>278</td>\n",
              "      <td>64480</td>\n",
              "      <td>6201</td>\n",
              "    </tr>\n",
              "    <tr>\n",
              "      <th>3</th>\n",
              "      <td>CLT</td>\n",
              "      <td>Charlotte, NC: Charlotte Douglas International</td>\n",
              "      <td>2003/06</td>\n",
              "      <td>6</td>\n",
              "      <td>June</td>\n",
              "      <td>2003</td>\n",
              "      <td>300</td>\n",
              "      <td>472</td>\n",
              "      <td>735</td>\n",
              "      <td>2</td>\n",
              "      <td>54</td>\n",
              "      <td>American Airlines Inc.,Continental Air Lines I...</td>\n",
              "      <td>11</td>\n",
              "      <td>73</td>\n",
              "      <td>1562</td>\n",
              "      <td>14</td>\n",
              "      <td>7021</td>\n",
              "      <td>8670</td>\n",
              "      <td>14763</td>\n",
              "      <td>23379</td>\n",
              "      <td>23804</td>\n",
              "      <td>127</td>\n",
              "      <td>65865</td>\n",
              "      <td>3792</td>\n",
              "    </tr>\n",
              "    <tr>\n",
              "      <th>4</th>\n",
              "      <td>DCA</td>\n",
              "      <td>Washington, DC: Ronald Reagan Washington National</td>\n",
              "      <td>2003/06</td>\n",
              "      <td>6</td>\n",
              "      <td>June</td>\n",
              "      <td>2003</td>\n",
              "      <td>283</td>\n",
              "      <td>268</td>\n",
              "      <td>487</td>\n",
              "      <td>4</td>\n",
              "      <td>58</td>\n",
              "      <td>American Airlines Inc.,Alaska Airlines Inc.,Co...</td>\n",
              "      <td>13</td>\n",
              "      <td>74</td>\n",
              "      <td>1100</td>\n",
              "      <td>18</td>\n",
              "      <td>5321</td>\n",
              "      <td>6513</td>\n",
              "      <td>13775</td>\n",
              "      <td>13712</td>\n",
              "      <td>20999</td>\n",
              "      <td>120</td>\n",
              "      <td>52747</td>\n",
              "      <td>4141</td>\n",
              "    </tr>\n",
              "  </tbody>\n",
              "</table>\n",
              "</div>"
            ],
            "text/plain": [
              "  Airport.Code  ... Statistics.Minutes Delayed.Weather\n",
              "0          ATL  ...                              19474\n",
              "1          BOS  ...                               4160\n",
              "2          BWI  ...                               6201\n",
              "3          CLT  ...                               3792\n",
              "4          DCA  ...                               4141\n",
              "\n",
              "[5 rows x 24 columns]"
            ]
          },
          "metadata": {
            "tags": []
          },
          "execution_count": 62
        }
      ]
    },
    {
      "cell_type": "markdown",
      "metadata": {
        "id": "XPD2xHpqFsmQ"
      },
      "source": [
        "## Check variables' type"
      ]
    },
    {
      "cell_type": "code",
      "metadata": {
        "id": "1qjMv5UgFpLq",
        "outputId": "4d057d92-7e4d-4b86-9da0-df11af1966f8",
        "colab": {
          "base_uri": "https://localhost:8080/",
          "height": 440
        }
      },
      "source": [
        "df.dtypes"
      ],
      "execution_count": null,
      "outputs": [
        {
          "output_type": "execute_result",
          "data": {
            "text/plain": [
              "Airport.Code                                           object\n",
              "Airport.Name                                           object\n",
              "Time.Label                                             object\n",
              "Time.Month                                              int64\n",
              "Time.Month Name                                        object\n",
              "Time.Year                                               int64\n",
              "Statistics.# of Delays.Carrier                          int64\n",
              "Statistics.# of Delays.Late Aircraft                    int64\n",
              "Statistics.# of Delays.National Aviation System         int64\n",
              "Statistics.# of Delays.Security                         int64\n",
              "Statistics.# of Delays.Weather                          int64\n",
              "Statistics.Carriers.Names                              object\n",
              "Statistics.Carriers.Total                               int64\n",
              "Statistics.Flights.Cancelled                            int64\n",
              "Statistics.Flights.Delayed                              int64\n",
              "Statistics.Flights.Diverted                             int64\n",
              "Statistics.Flights.On Time                              int64\n",
              "Statistics.Flights.Total                                int64\n",
              "Statistics.Minutes Delayed.Carrier                      int64\n",
              "Statistics.Minutes Delayed.Late Aircraft                int64\n",
              "Statistics.Minutes Delayed.National Aviation System     int64\n",
              "Statistics.Minutes Delayed.Security                     int64\n",
              "Statistics.Minutes Delayed.Total                        int64\n",
              "Statistics.Minutes Delayed.Weather                      int64\n",
              "dtype: object"
            ]
          },
          "metadata": {
            "tags": []
          },
          "execution_count": 63
        }
      ]
    },
    {
      "cell_type": "code",
      "metadata": {
        "id": "rlOX5T5UFrQv"
      },
      "source": [
        "CarriersTotal = df['Statistics.Carriers.Total']"
      ],
      "execution_count": 74,
      "outputs": []
    },
    {
      "cell_type": "markdown",
      "metadata": {
        "id": "Ht_jZT47Jbyt"
      },
      "source": [
        "### Display the kernel density estimate plot."
      ]
    },
    {
      "cell_type": "code",
      "metadata": {
        "id": "jXiKMHXxG8hy",
        "outputId": "573c4d4a-ddb9-4199-ad09-971f6c91731c",
        "colab": {
          "base_uri": "https://localhost:8080/",
          "height": 282
        }
      },
      "source": [
        "CarriersTotal.plot.kde()"
      ],
      "execution_count": 75,
      "outputs": [
        {
          "output_type": "execute_result",
          "data": {
            "text/plain": [
              "<matplotlib.axes._subplots.AxesSubplot at 0x7f975636f898>"
            ]
          },
          "metadata": {
            "tags": []
          },
          "execution_count": 75
        },
        {
          "output_type": "display_data",
          "data": {
            "image/png": "[encoded data removed]",
            "text/plain": [
              "<Figure size 432x288 with 1 Axes>"
            ]
          },
          "metadata": {
            "tags": [],
            "needs_background": "light"
          }
        }
      ]
    },
    {
      "cell_type": "code",
      "metadata": {
        "id": "ykWCDtmDGqmF",
        "outputId": "f46c6271-8ca7-4832-c5b1-051954d0a37b",
        "colab": {
          "base_uri": "https://localhost:8080/",
          "height": 34
        }
      },
      "source": [
        "CarriersTotalList = CarriersTotal.to_list()\n",
        "CarriersTotalList[:5]"
      ],
      "execution_count": 76,
      "outputs": [
        {
          "output_type": "execute_result",
          "data": {
            "text/plain": [
              "[11, 14, 11, 11, 13]"
            ]
          },
          "metadata": {
            "tags": []
          },
          "execution_count": 76
        }
      ]
    }
  ]
}